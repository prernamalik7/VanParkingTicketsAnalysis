{
 "cells": [
  {
   "cell_type": "code",
   "execution_count": 1,
   "metadata": {},
   "outputs": [],
   "source": [
    "#Import all necessary libraries\n",
    "\n",
    "import pandas as pd\n",
    "import numpy as np\n",
    "import matplotlib.pyplot as plt\n",
    "import seaborn as sns\n",
    "import geopandas as gpd\n",
    "import re"
   ]
  },
  {
   "cell_type": "code",
   "execution_count": 5,
   "metadata": {},
   "outputs": [],
   "source": [
    "# Load street data\n",
    "Service_Request_filepath = 'ServiceRequest.xlsx'\n",
    "df_service_request = pd.read_excel(Service_Request_filepath)\n",
    "\n",
    "Collections_timesheet_Sample_filepath = 'Collections_timesheet_Sample.xlsx'\n",
    "df_coll_timesheet = pd.read_excel(Collections_timesheet_Sample_filepath)"
   ]
  },
  {
   "cell_type": "markdown",
   "metadata": {},
   "source": [
    "<h2>Inspecting Service Request Data"
   ]
  },
  {
   "cell_type": "code",
   "execution_count": 4,
   "metadata": {},
   "outputs": [
    {
     "data": {
      "text/plain": [
       "Index(['SR_NUM', 'LAGAN_ID', 'ADDRKEY', 'PROB', 'SERVICE_GROUP',\n",
       "       'SERVICE_TYPE', 'SERVICE_SUBTYPE', 'DUMPSTER_IND', 'ADDDTTM', 'RESDTTM',\n",
       "       'RESCODE', 'RESFLAG', 'SR_YEAR', 'SR_MONTH', 'OUTLIER_IND', 'INTAKE',\n",
       "       'RES_DESC', 'GPSX', 'GPSY', 'VALID_COORDS', 'VALID_ADDR', 'CASTNO',\n",
       "       'CASTNAME', 'CASUFFIX'],\n",
       "      dtype='object')"
      ]
     },
     "execution_count": 4,
     "metadata": {},
     "output_type": "execute_result"
    }
   ],
   "source": [
    "df_service_request.columns"
   ]
  },
  {
   "cell_type": "code",
   "execution_count": 7,
   "metadata": {},
   "outputs": [
    {
     "name": "stdout",
     "output_type": "stream",
     "text": [
      "<class 'pandas.core.frame.DataFrame'>\n",
      "RangeIndex: 26010 entries, 0 to 26009\n",
      "Data columns (total 24 columns):\n",
      " #   Column           Non-Null Count  Dtype         \n",
      "---  ------           --------------  -----         \n",
      " 0   SR_NUM           26010 non-null  int64         \n",
      " 1   LAGAN_ID         25985 non-null  float64       \n",
      " 2   ADDRKEY          26010 non-null  int64         \n",
      " 3   PROB             26010 non-null  int64         \n",
      " 4   SERVICE_GROUP    26010 non-null  object        \n",
      " 5   SERVICE_TYPE     26010 non-null  object        \n",
      " 6   SERVICE_SUBTYPE  26010 non-null  object        \n",
      " 7   DUMPSTER_IND     26010 non-null  object        \n",
      " 8   ADDDTTM          26010 non-null  datetime64[ns]\n",
      " 9   RESDTTM          24581 non-null  datetime64[ns]\n",
      " 10  RESCODE          24581 non-null  float64       \n",
      " 11  RESFLAG          26010 non-null  object        \n",
      " 12  SR_YEAR          26010 non-null  int64         \n",
      " 13  SR_MONTH         26010 non-null  int64         \n",
      " 14  OUTLIER_IND      26010 non-null  int64         \n",
      " 15  INTAKE           26010 non-null  object        \n",
      " 16  RES_DESC         24581 non-null  object        \n",
      " 17  GPSX             25993 non-null  float64       \n",
      " 18  GPSY             25993 non-null  float64       \n",
      " 19  VALID_COORDS     26010 non-null  object        \n",
      " 20  VALID_ADDR       26010 non-null  object        \n",
      " 21  CASTNO           25995 non-null  float64       \n",
      " 22  CASTNAME         25995 non-null  object        \n",
      " 23  CASUFFIX         25995 non-null  object        \n",
      "dtypes: datetime64[ns](2), float64(5), int64(6), object(11)\n",
      "memory usage: 4.8+ MB\n",
      "None\n",
      "    SR_NUM      LAGAN_ID  ADDRKEY  PROB                   SERVICE_GROUP  \\\n",
      "0  2042511  2.010002e+11    57464  1004                     COLLECTIONS   \n",
      "1  2052458  2.010002e+11   129945  2182  PUBLIC REALM - STREET CLEANING   \n",
      "2  2071227  2.010003e+11    66732  1019                     COLLECTIONS   \n",
      "3  2077160  2.010003e+11   101737  1017                     COLLECTIONS   \n",
      "4  2053318  2.010002e+11    17869  1019                     COLLECTIONS   \n",
      "\n",
      "                 SERVICE_TYPE  SERVICE_SUBTYPE DUMPSTER_IND  \\\n",
      "0  RESIDENTIAL CART - GARBAGE  MISSINGORSTOLEN            N   \n",
      "1             ABANDONED ITEMS            SMALL            N   \n",
      "2           MISSED COLLECTION       YARD WASTE            N   \n",
      "3           MISSED COLLECTION          GARBAGE            N   \n",
      "4           MISSED COLLECTION       YARD WASTE            N   \n",
      "\n",
      "              ADDDTTM             RESDTTM  ...  OUTLIER_IND INTAKE  \\\n",
      "0 2022-10-27 21:27:53 2022-10-31 09:02:00  ...            0   CALL   \n",
      "1 2022-11-15 18:47:13 2022-11-16 00:00:00  ...            0   CALL   \n",
      "2 2022-12-16 14:19:39 2023-01-03 13:29:00  ...            0   CALL   \n",
      "3 2022-12-29 17:21:26 2022-12-30 11:58:00  ...            0   CALL   \n",
      "4 2022-11-17 07:59:13 2022-11-18 13:31:00  ...            0   CALL   \n",
      "\n",
      "                          RES_DESC        GPSX         GPSY VALID_COORDS  \\\n",
      "0                 Service Provided  496943.082  5454856.415            Y   \n",
      "1  Issue not found or inaccessible  491591.605  5459123.367            Y   \n",
      "2                 Service Provided  495639.438  5452829.332            Y   \n",
      "3                 Service Provided  485769.560  5456020.902            Y   \n",
      "4                 Service Provided  494533.378  5456491.692            Y   \n",
      "\n",
      "  VALID_ADDR  CASTNO     CASTNAME CASUFFIX  \n",
      "0          Y  2993.0    E 27TH AV     (MA)  \n",
      "1          Y   700.0  W PENDER ST     (MA)  \n",
      "2          Y  2284.0    E 46TH AV     (MA)  \n",
      "3          Y  4067.0    W 18TH AV     (MA)  \n",
      "4          Y  1424.0    E 10TH AV     (MA)  \n",
      "\n",
      "[5 rows x 24 columns]\n"
     ]
    }
   ],
   "source": [
    "if df_service_request is not None:\n",
    "    # Display basic information about the dataframe\n",
    "    print(df_service_request.info())\n",
    "    print(df_service_request.head())"
   ]
  },
  {
   "cell_type": "markdown",
   "metadata": {},
   "source": [
    "<h2>Inspecting Collections Timesheet Sample Data"
   ]
  },
  {
   "cell_type": "code",
   "execution_count": 6,
   "metadata": {},
   "outputs": [
    {
     "data": {
      "text/plain": [
       "Index(['BEAT_NUMBER', 'TRUCK_ID', 'SERVICE_TYPE', 'MATERIAL', 'DRIVER',\n",
       "       'SERVICE_DAY', 'SERVICE_DATE', 'BREAKDOWN_IND', 'OVERTIME_IND'],\n",
       "      dtype='object')"
      ]
     },
     "execution_count": 6,
     "metadata": {},
     "output_type": "execute_result"
    }
   ],
   "source": [
    "df_coll_timesheet.columns"
   ]
  },
  {
   "cell_type": "code",
   "execution_count": 8,
   "metadata": {},
   "outputs": [
    {
     "name": "stdout",
     "output_type": "stream",
     "text": [
      "<class 'pandas.core.frame.DataFrame'>\n",
      "RangeIndex: 13664 entries, 0 to 13663\n",
      "Data columns (total 9 columns):\n",
      " #   Column         Non-Null Count  Dtype         \n",
      "---  ------         --------------  -----         \n",
      " 0   BEAT_NUMBER    13664 non-null  object        \n",
      " 1   TRUCK_ID       13664 non-null  object        \n",
      " 2   SERVICE_TYPE   12883 non-null  object        \n",
      " 3   MATERIAL       13664 non-null  object        \n",
      " 4   DRIVER         13663 non-null  object        \n",
      " 5   SERVICE_DAY    13664 non-null  object        \n",
      " 6   SERVICE_DATE   13664 non-null  datetime64[ns]\n",
      " 7   BREAKDOWN_IND  13664 non-null  int64         \n",
      " 8   OVERTIME_IND   13664 non-null  int64         \n",
      "dtypes: datetime64[ns](1), int64(2), object(6)\n",
      "memory usage: 960.9+ KB\n",
      "None\n",
      "  BEAT_NUMBER TRUCK_ID    SERVICE_TYPE           MATERIAL DRIVER SERVICE_DAY  \\\n",
      "0           E     None  Semi-Automated  Facilities Routes     Bo  not listed   \n",
      "1           E    A5717  Semi-Automated  Facilities Routes     Di  not listed   \n",
      "2           E    A5717  Semi-Automated  Facilities Routes     Mu  not listed   \n",
      "3           E     None  Semi-Automated  Facilities Routes     Sc  not listed   \n",
      "4           W     None  Semi-Automated  Facilities Routes     Ma  not listed   \n",
      "\n",
      "  SERVICE_DATE  BREAKDOWN_IND  OVERTIME_IND  \n",
      "0   2022-01-03              0             0  \n",
      "1   2022-01-03              0             1  \n",
      "2   2022-01-03              0             1  \n",
      "3   2022-01-03              0             0  \n",
      "4   2022-01-03              0             0  \n"
     ]
    }
   ],
   "source": [
    "if df_coll_timesheet is not None:\n",
    "    # Display basic information about the dataframe\n",
    "    print(df_coll_timesheet.info())\n",
    "    print(df_coll_timesheet.head())"
   ]
  },
  {
   "cell_type": "markdown",
   "metadata": {},
   "source": [
    "<h2>Datasets Overview\n"
   ]
  },
  {
   "cell_type": "markdown",
   "metadata": {},
   "source": [
    "<b>Service Request Data:</b>\n",
    "Contains information about service requests including spatial data, service types, request times, and resolutions.\n",
    "Key columns: SR_NUM, SERVICE_GROUP, SERVICE_TYPE, ADDDTTM, RESDTTM, GPSX, GPSY.\n",
    "    \n",
    "    \n",
    "<b>Collections Timesheet Data:</b>\n",
    "Contains details about collection timesheets including truck IDs, service types, and service dates.\n",
    "Key columns: BEAT_NUMBER, TRUCK_ID, SERVICE_TYPE, SERVICE_DATE.\n",
    "\n",
    "    \n",
    "<b>Business Rules</b>\n",
    "A Service request is valid if received within 5 days post-service date."
   ]
  },
  {
   "cell_type": "code",
   "execution_count": null,
   "metadata": {},
   "outputs": [],
   "source": []
  },
  {
   "cell_type": "markdown",
   "metadata": {},
   "source": [
    "<h2>Star Schema Components:"
   ]
  },
  {
   "cell_type": "markdown",
   "metadata": {},
   "source": [
    "<h3>Fact Table"
   ]
  },
  {
   "cell_type": "markdown",
   "metadata": {},
   "source": [
    "Fact_ServiceRequests: Stores metrics related to service requests.\n",
    "\n",
    "Columns:\n",
    "SR_NUM (Primary Key)\n",
    "ADDRKEY\n",
    "SERVICE_GROUP\n",
    "SERVICE_TYPE\n",
    "ADDDTTM\n",
    "RESDTTM\n",
    "VALID_COORDS\n",
    "VALID_ADDR\n",
    "GPSX\n",
    "GPSY\n"
   ]
  },
  {
   "cell_type": "markdown",
   "metadata": {},
   "source": [
    "<h3>Dimension Tables"
   ]
  },
  {
   "cell_type": "markdown",
   "metadata": {},
   "source": [
    "<b>Dim_Time:</b> Stores date and time attributes.\n",
    "\n",
    "Columns:\n",
    "DateKey (Primary Key)\n",
    "Date\n",
    "Year\n",
    "Month\n",
    "Day\n",
    "Weekday\n"
   ]
  },
  {
   "cell_type": "markdown",
   "metadata": {},
   "source": [
    "<b>Dim_ServiceType:</b> Stores service type information.\n",
    "Columns:\n",
    "ServiceTypeKey (Primary Key)\n",
    "ServiceType\n",
    "ServiceSubType\n",
    "Dim_Truck: Stores truck-related information from timesheet data.\n",
    "Columns:\n",
    "TruckID (Primary Key)\n",
    "BeatNumber\n",
    "Driver\n",
    "ServiceDay\n",
    "BreakdownInd\n",
    "OvertimeInd\n"
   ]
  },
  {
   "cell_type": "markdown",
   "metadata": {},
   "source": [
    "<h4>Relationships"
   ]
  },
  {
   "cell_type": "markdown",
   "metadata": {},
   "source": [
    "\n",
    "Fact_ServiceRequests:\n",
    "Linked to Dim_Time on ADDDTTM and RESDTTM.\n",
    "Linked to Dim_ServiceType on SERVICE_TYPE.\n",
    "Linked to Dim_Truck on TRUCK_ID and SERVICE_DATE from timesheet data.\n"
   ]
  },
  {
   "cell_type": "markdown",
   "metadata": {},
   "source": [
    "<h3>Star Schema ERD"
   ]
  },
  {
   "cell_type": "markdown",
   "metadata": {},
   "source": [
    "\n",
    "The ERD will show the central Fact_ServiceRequests table connected to Dim_Time, Dim_ServiceType, and Dim_Truck dimension tables. \n",
    "\n",
    "Below is the description of the diagram in crow's foot notation:\n",
    "\n",
    "Fact_ServiceRequests (SR_NUM, ADDRKEY, SERVICE_GROUP, SERVICE_TYPE, ADDDTTM, RESDTTM, VALID_COORDS, VALID_ADDR, GPSX, GPSY)\n",
    "\n",
    "Linked to Dim_Time on ADDDTTM and RESDTTM.\n",
    "Linked to Dim_ServiceType on SERVICE_TYPE.\n",
    "Linked to Dim_Truck on TRUCK_ID and SERVICE_DATE.\n",
    "Dim_Time (DateKey, Date, Year, Month, Day, Weekday)\n",
    "\n",
    "1\n",
    "relationship with Fact_ServiceRequests.\n",
    "Dim_ServiceType (ServiceTypeKey, ServiceType, ServiceSubType)\n",
    "\n",
    "1\n",
    "relationship with Fact_ServiceRequests.\n",
    "Dim_Truck (TruckID, BeatNumber, Driver, ServiceDay, BreakdownInd, OvertimeInd)\n",
    "\n",
    "1\n",
    "relationship with Fact_ServiceRequests."
   ]
  }
 ],
 "metadata": {
  "kernelspec": {
   "display_name": "Python 3",
   "language": "python",
   "name": "python3"
  },
  "language_info": {
   "codemirror_mode": {
    "name": "ipython",
    "version": 3
   },
   "file_extension": ".py",
   "mimetype": "text/x-python",
   "name": "python",
   "nbconvert_exporter": "python",
   "pygments_lexer": "ipython3",
   "version": "3.7.7"
  }
 },
 "nbformat": 4,
 "nbformat_minor": 4
}
